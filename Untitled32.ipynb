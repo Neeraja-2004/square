{
 "cells": [
  {
   "cell_type": "code",
   "execution_count": 11,
   "id": "670c4fad-9412-45d2-84b9-cdd1ea23617d",
   "metadata": {},
   "outputs": [
    {
     "name": "stdin",
     "output_type": "stream",
     "text": [
      "enter the size 6\n"
     ]
    },
    {
     "name": "stdout",
     "output_type": "stream",
     "text": [
      "*         * \n",
      "* *     * * \n",
      "*   * *   * \n",
      "*   * *   * \n",
      "* *     * * \n",
      "*         * \n"
     ]
    }
   ],
   "source": [
    "n=int(input(\"enter the size\"))\n",
    "for i in range(n):\n",
    "    for j in range(n):\n",
    "        if j==0 or j==n-1 or i==j or i+j==n-1:\n",
    "            print(\"*\", end=' ')\n",
    "        else:\n",
    "            print(\" \", end=' ')\n",
    "    print()"
   ]
  },
  {
   "cell_type": "code",
   "execution_count": 13,
   "id": "b0b28e74-5c19-4c9b-833a-291b5de4a330",
   "metadata": {},
   "outputs": [
    {
     "name": "stdin",
     "output_type": "stream",
     "text": [
      "enter the size 7\n"
     ]
    },
    {
     "name": "stdout",
     "output_type": "stream",
     "text": [
      "* * * * * * * \n",
      "  *       *   \n",
      "    *   *     \n",
      "      *       \n",
      "    *   *     \n",
      "  *       *   \n",
      "* * * * * * * \n"
     ]
    }
   ],
   "source": [
    "n=int(input(\"enter the size\"))\n",
    "for i in range(n):\n",
    "    for j in range(n):\n",
    "        if i==0 or i==n-1 or i==j or i+j==n-1:\n",
    "            print(\"*\", end=' ')\n",
    "        else:\n",
    "            print(\" \", end=' ')\n",
    "    print()"
   ]
  },
  {
   "cell_type": "code",
   "execution_count": 19,
   "id": "e7802935-ba50-4d55-bfee-78b57fd83489",
   "metadata": {},
   "outputs": [
    {
     "name": "stdin",
     "output_type": "stream",
     "text": [
      "enter the size 7\n"
     ]
    },
    {
     "name": "stdout",
     "output_type": "stream",
     "text": [
      "* * * * * * * \n",
      "  *         * \n",
      "    *       * \n",
      "      *     * \n",
      "        *   * \n",
      "          * * \n",
      "            * \n"
     ]
    }
   ],
   "source": [
    "n=int(input(\"enter the size\"))\n",
    "for i in range(n):\n",
    "    for j in range(n):\n",
    "        if i==0 or j==n-1 or i==j:\n",
    "            print(\"*\", end=' ')\n",
    "        else:\n",
    "            print(\" \", end=' ')\n",
    "    print()"
   ]
  },
  {
   "cell_type": "code",
   "execution_count": 25,
   "id": "d2411eda-5b1d-40ac-85f7-9470db514045",
   "metadata": {},
   "outputs": [
    {
     "name": "stdin",
     "output_type": "stream",
     "text": [
      "enter the size 7\n"
     ]
    },
    {
     "name": "stdout",
     "output_type": "stream",
     "text": [
      "*             \n",
      "* *           \n",
      "*   *         \n",
      "*     *       \n",
      "*       *     \n",
      "*         *   \n",
      "* * * * * * * \n"
     ]
    }
   ],
   "source": [
    "n=int(input(\"enter the size\"))\n",
    "for i in range(n):\n",
    "    for j in range(n):\n",
    "        if j==0 or i==n-1 or i==j:\n",
    "            print(\"*\", end=' ')\n",
    "        else:\n",
    "            print(\" \", end=' ')\n",
    "    print()"
   ]
  },
  {
   "cell_type": "code",
   "execution_count": 37,
   "id": "e7afa8cc-6fa9-4904-8641-8c1ec6fda7e2",
   "metadata": {},
   "outputs": [
    {
     "name": "stdout",
     "output_type": "stream",
     "text": [
      "            * \n",
      "          * * \n",
      "        *   * \n",
      "      *     * \n",
      "    *       * \n",
      "  *         * \n",
      "* * * * * * * \n"
     ]
    }
   ],
   "source": [
    "for i in range(n):\n",
    "    for j in range(n):\n",
    "        if i==n-1 or j==n-1 or i+j==n-1:\n",
    "            print(\"*\", end=' ')\n",
    "        else:\n",
    "            print(\" \", end=' ')\n",
    "    print()"
   ]
  },
  {
   "cell_type": "code",
   "execution_count": 43,
   "id": "8e41ed03-bb7e-4ad0-8c74-ac8b9aa2af08",
   "metadata": {},
   "outputs": [
    {
     "name": "stdin",
     "output_type": "stream",
     "text": [
      "enter the size 7\n"
     ]
    },
    {
     "name": "stdout",
     "output_type": "stream",
     "text": [
      "* * * * * * * \n",
      "* *       * * \n",
      "*   *   *   * \n",
      "*     *     * \n",
      "*   *   *   * \n",
      "* *       * * \n",
      "* * * * * * * \n"
     ]
    }
   ],
   "source": [
    "n=int(input(\"enter the size\"))\n",
    "for i in range(n):\n",
    "    for j in range(n):\n",
    "        if i==0 or i==n-1 or j==0 or j==n-1 or i==j or i+j==n-1:\n",
    "            print(\"*\", end=' ')\n",
    "        else:\n",
    "            print(\" \", end=' ')\n",
    "    print()"
   ]
  },
  {
   "cell_type": "code",
   "execution_count": null,
   "id": "7e8e4513-f4cc-4a18-964b-6d021e4c587c",
   "metadata": {},
   "outputs": [],
   "source": []
  }
 ],
 "metadata": {
  "kernelspec": {
   "display_name": "Python 3 (ipykernel)",
   "language": "python",
   "name": "python3"
  },
  "language_info": {
   "codemirror_mode": {
    "name": "ipython",
    "version": 3
   },
   "file_extension": ".py",
   "mimetype": "text/x-python",
   "name": "python",
   "nbconvert_exporter": "python",
   "pygments_lexer": "ipython3",
   "version": "3.12.7"
  }
 },
 "nbformat": 4,
 "nbformat_minor": 5
}
